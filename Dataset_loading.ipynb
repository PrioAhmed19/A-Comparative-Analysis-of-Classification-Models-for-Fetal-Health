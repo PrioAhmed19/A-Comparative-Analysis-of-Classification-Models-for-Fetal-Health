{
 "cells": [
  {
   "cell_type": "code",
   "execution_count": 1,
   "metadata": {},
   "outputs": [],
   "source": [
    "import numpy as np\n",
    "import pandas as pd\n",
    "import scipy.stats as stats\n",
    "from matplotlib import pyplot as plt\n",
    "import seaborn as sns\n",
    "%matplotlib inline\n",
    "from sklearn.preprocessing import StandardScaler\n",
    "import gdown\n"
   ]
  },
  {
   "cell_type": "markdown",
   "metadata": {},
   "source": [
    "Datast loading"
   ]
  },
  {
   "cell_type": "code",
   "execution_count": 2,
   "metadata": {},
   "outputs": [
    {
     "name": "stderr",
     "output_type": "stream",
     "text": [
      "Downloading...\n",
      "From: https://drive.google.com/uc?id=1tH6AxS55FGv_NtVSf2127rEDcrVXfy4x\n",
      "To: f:\\Project\\Fetal\\fetal_health.csv\n",
      "100%|██████████| 229k/229k [00:00<00:00, 1.17MB/s]\n"
     ]
    }
   ],
   "source": [
    "# dataset loading\n",
    "\n",
    "url = 'https://drive.google.com/uc?id=1tH6AxS55FGv_NtVSf2127rEDcrVXfy4x'\n",
    "\n",
    "# Output file name\n",
    "output = 'fetal_health.csv'\n",
    "\n",
    "# Download the file\n",
    "gdown.download(url, output, quiet=False)\n",
    "\n",
    "# Read the downloaded file\n",
    "import pandas as pd\n",
    "df = pd.read_csv(output)\n",
    "\n",
    "\n"
   ]
  },
  {
   "cell_type": "code",
   "execution_count": 3,
   "metadata": {},
   "outputs": [
    {
     "name": "stdout",
     "output_type": "stream",
     "text": [
      "(2126, 22)\n",
      "baseline value                                            0\n",
      "accelerations                                             0\n",
      "fetal_movement                                            0\n",
      "uterine_contractions                                      0\n",
      "light_decelerations                                       0\n",
      "severe_decelerations                                      0\n",
      "prolongued_decelerations                                  0\n",
      "abnormal_short_term_variability                           0\n",
      "mean_value_of_short_term_variability                      0\n",
      "percentage_of_time_with_abnormal_long_term_variability    0\n",
      "mean_value_of_long_term_variability                       0\n",
      "histogram_width                                           0\n",
      "histogram_min                                             0\n",
      "histogram_max                                             0\n",
      "histogram_number_of_peaks                                 0\n",
      "histogram_number_of_zeroes                                0\n",
      "histogram_mode                                            0\n",
      "histogram_mean                                            0\n",
      "histogram_median                                          0\n",
      "histogram_variance                                        0\n",
      "histogram_tendency                                        0\n",
      "fetal_health                                              0\n",
      "dtype: int64\n",
      "False    2113\n",
      "True       13\n",
      "Name: count, dtype: int64\n"
     ]
    }
   ],
   "source": [
    "print(df.shape)\n",
    "\n",
    "print(df.isnull().sum())\n",
    "\n",
    "print(df.duplicated().value_counts())"
   ]
  },
  {
   "cell_type": "code",
   "execution_count": 4,
   "metadata": {},
   "outputs": [
    {
     "name": "stdout",
     "output_type": "stream",
     "text": [
      "      baseline value  accelerations  fetal_movement  uterine_contractions  \\\n",
      "68             140.0          0.007           0.000                 0.004   \n",
      "234            123.0          0.000           0.000                 0.000   \n",
      "306            145.0          0.000           0.020                 0.000   \n",
      "324            135.0          0.000           0.000                 0.000   \n",
      "333            144.0          0.000           0.019                 0.000   \n",
      "787            123.0          0.003           0.003                 0.000   \n",
      "791            123.0          0.003           0.004                 0.000   \n",
      "798            146.0          0.000           0.000                 0.003   \n",
      "849            138.0          0.002           0.000                 0.004   \n",
      "1113           122.0          0.000           0.000                 0.000   \n",
      "1114           122.0          0.000           0.000                 0.000   \n",
      "1115           122.0          0.000           0.000                 0.000   \n",
      "1458           148.0          0.005           0.000                 0.002   \n",
      "\n",
      "      light_decelerations  severe_decelerations  prolongued_decelerations  \\\n",
      "68                    0.0                   0.0                       0.0   \n",
      "234                   0.0                   0.0                       0.0   \n",
      "306                   0.0                   0.0                       0.0   \n",
      "324                   0.0                   0.0                       0.0   \n",
      "333                   0.0                   0.0                       0.0   \n",
      "787                   0.0                   0.0                       0.0   \n",
      "791                   0.0                   0.0                       0.0   \n",
      "798                   0.0                   0.0                       0.0   \n",
      "849                   0.0                   0.0                       0.0   \n",
      "1113                  0.0                   0.0                       0.0   \n",
      "1114                  0.0                   0.0                       0.0   \n",
      "1115                  0.0                   0.0                       0.0   \n",
      "1458                  0.0                   0.0                       0.0   \n",
      "\n",
      "      abnormal_short_term_variability  mean_value_of_short_term_variability  \\\n",
      "68                               34.0                                   1.2   \n",
      "234                              49.0                                   0.8   \n",
      "306                              77.0                                   0.2   \n",
      "324                              62.0                                   0.5   \n",
      "333                              76.0                                   0.4   \n",
      "787                              52.0                                   0.8   \n",
      "791                              50.0                                   0.9   \n",
      "798                              65.0                                   0.4   \n",
      "849                              41.0                                   0.8   \n",
      "1113                             19.0                                   1.9   \n",
      "1114                             19.0                                   1.9   \n",
      "1115                             19.0                                   1.9   \n",
      "1458                             40.0                                   0.9   \n",
      "\n",
      "      percentage_of_time_with_abnormal_long_term_variability  ...  \\\n",
      "68                                                  0.0       ...   \n",
      "234                                                 7.0       ...   \n",
      "306                                                45.0       ...   \n",
      "324                                                71.0       ...   \n",
      "333                                                61.0       ...   \n",
      "787                                                 2.0       ...   \n",
      "791                                                 4.0       ...   \n",
      "798                                                39.0       ...   \n",
      "849                                                 8.0       ...   \n",
      "1113                                                0.0       ...   \n",
      "1114                                                0.0       ...   \n",
      "1115                                                0.0       ...   \n",
      "1458                                                0.0       ...   \n",
      "\n",
      "      histogram_min  histogram_max  histogram_number_of_peaks  \\\n",
      "68            119.0          179.0                        2.0   \n",
      "234            63.0          137.0                        2.0   \n",
      "306           129.0          150.0                        1.0   \n",
      "324            71.0          168.0                        3.0   \n",
      "333            71.0          152.0                        3.0   \n",
      "787            50.0          140.0                        7.0   \n",
      "791            58.0          140.0                        7.0   \n",
      "798           137.0          156.0                        1.0   \n",
      "849           105.0          156.0                        4.0   \n",
      "1113          103.0          142.0                        1.0   \n",
      "1114          103.0          142.0                        1.0   \n",
      "1115          103.0          142.0                        1.0   \n",
      "1458          136.0          171.0                        1.0   \n",
      "\n",
      "      histogram_number_of_zeroes  histogram_mode  histogram_mean  \\\n",
      "68                           0.0           156.0           153.0   \n",
      "234                          0.0           129.0           127.0   \n",
      "306                          0.0           146.0           145.0   \n",
      "324                          0.0           143.0           142.0   \n",
      "333                          0.0           145.0           144.0   \n",
      "787                          0.0           129.0           128.0   \n",
      "791                          0.0           129.0           128.0   \n",
      "798                          0.0           150.0           149.0   \n",
      "849                          0.0           142.0           142.0   \n",
      "1113                         0.0           120.0           120.0   \n",
      "1114                         0.0           120.0           120.0   \n",
      "1115                         0.0           120.0           120.0   \n",
      "1458                         0.0           153.0           155.0   \n",
      "\n",
      "      histogram_median  histogram_variance  histogram_tendency  fetal_health  \n",
      "68               155.0                 5.0                 0.0           1.0  \n",
      "234              129.0                 2.0                 1.0           1.0  \n",
      "306              147.0                 0.0                 1.0           2.0  \n",
      "324              144.0                 1.0                 1.0           3.0  \n",
      "333              146.0                 2.0                 1.0           2.0  \n",
      "787              130.0                 4.0                 1.0           1.0  \n",
      "791              130.0                 5.0                 1.0           1.0  \n",
      "798              151.0                 1.0                 1.0           2.0  \n",
      "849              143.0                 2.0                 1.0           1.0  \n",
      "1113             122.0                 3.0                 0.0           1.0  \n",
      "1114             122.0                 3.0                 0.0           1.0  \n",
      "1115             122.0                 3.0                 0.0           1.0  \n",
      "1458             156.0                 4.0                 0.0           1.0  \n",
      "\n",
      "[13 rows x 22 columns]\n"
     ]
    }
   ],
   "source": [
    "print(df[df.duplicated()])\n"
   ]
  },
  {
   "cell_type": "code",
   "execution_count": 5,
   "metadata": {},
   "outputs": [],
   "source": [
    "df = df.drop_duplicates()\n"
   ]
  },
  {
   "cell_type": "code",
   "execution_count": 6,
   "metadata": {},
   "outputs": [
    {
     "data": {
      "text/plain": [
       "(2113, 22)"
      ]
     },
     "execution_count": 6,
     "metadata": {},
     "output_type": "execute_result"
    }
   ],
   "source": [
    "df.shape"
   ]
  }
 ],
 "metadata": {
  "kernelspec": {
   "display_name": "Python 3",
   "language": "python",
   "name": "python3"
  },
  "language_info": {
   "codemirror_mode": {
    "name": "ipython",
    "version": 3
   },
   "file_extension": ".py",
   "mimetype": "text/x-python",
   "name": "python",
   "nbconvert_exporter": "python",
   "pygments_lexer": "ipython3",
   "version": "3.13.0"
  }
 },
 "nbformat": 4,
 "nbformat_minor": 2
}
